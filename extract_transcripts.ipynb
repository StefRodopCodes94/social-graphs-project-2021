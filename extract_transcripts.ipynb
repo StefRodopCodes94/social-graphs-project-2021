{
 "cells": [
  {
   "cell_type": "code",
   "execution_count": 1,
   "id": "7bc47778",
   "metadata": {},
   "outputs": [],
   "source": [
    "import pandas as pd\n",
    "import numpy as np\n",
    "import json \n",
    "import re\n",
    "import glob\n",
    "import nltk"
   ]
  },
  {
   "cell_type": "code",
   "execution_count": 2,
   "id": "0442933a",
   "metadata": {},
   "outputs": [],
   "source": [
    "df = pd.read_csv('atla_lok_transcript.csv',index_col=0)\n",
    "df['dialogue'] = df['dialogue'].astype(str)\n",
    "atla_df = df[df.series==1]\n",
    "lok_df  = df[df.series==2]"
   ]
  },
  {
   "cell_type": "code",
   "execution_count": 3,
   "id": "1070706a",
   "metadata": {},
   "outputs": [
    {
     "name": "stderr",
     "output_type": "stream",
     "text": [
      "/Users/philip/opt/anaconda3/envs/socialgraphs/lib/python3.7/site-packages/ipykernel_launcher.py:2: SettingWithCopyWarning: \n",
      "A value is trying to be set on a copy of a slice from a DataFrame.\n",
      "Try using .loc[row_indexer,col_indexer] = value instead\n",
      "\n",
      "See the caveats in the documentation: https://pandas.pydata.org/pandas-docs/stable/user_guide/indexing.html#returning-a-view-versus-a-copy\n",
      "  \n",
      "/Users/philip/opt/anaconda3/envs/socialgraphs/lib/python3.7/site-packages/ipykernel_launcher.py:3: SettingWithCopyWarning: \n",
      "A value is trying to be set on a copy of a slice from a DataFrame.\n",
      "Try using .loc[row_indexer,col_indexer] = value instead\n",
      "\n",
      "See the caveats in the documentation: https://pandas.pydata.org/pandas-docs/stable/user_guide/indexing.html#returning-a-view-versus-a-copy\n",
      "  This is separate from the ipykernel package so we can avoid doing imports until\n"
     ]
    }
   ],
   "source": [
    "df['combined_dialog']      = df.groupby(by='character_name')['dialogue'].transform(lambda x: ' '.join(x))\n",
    "lok_df['combined_dialog']  = lok_df.groupby(by='character_name')['dialogue'].transform(lambda x: ' '.join(x))\n",
    "atla_df['combined_dialog'] = atla_df.groupby(by='character_name')['dialogue'].transform(lambda x: ' '.join(x))\n",
    "\n",
    "df = df[['character_name','combined_dialog']]\n",
    "df = df.drop_duplicates(subset=['character_name'],keep=\"first\")\n",
    "\n",
    "atla_per_char = atla_df[['character_name','combined_dialog']]\n",
    "atla_per_char = atla_per_char.drop_duplicates(subset=['character_name'],keep=\"first\")\n",
    "\n",
    "lok_per_char  = lok_df[['character_name','combined_dialog']]\n",
    "lok_per_char  = lok_per_char.drop_duplicates(subset=['character_name'],keep=\"first\")\n"
   ]
  },
  {
   "cell_type": "code",
   "execution_count": 5,
   "id": "ed4e47cf",
   "metadata": {},
   "outputs": [],
   "source": [
    "def split_into_list(text):\n",
    "    text = str(text)\n",
    "    return nltk.tokenize.sent_tokenize(text)\n",
    "\n",
    "#Split text into lists of sentences\n",
    "df['combined_dialog'] = df['combined_dialog'].apply(lambda x: split_into_list(x))\n",
    "atla_per_char['combined_dialog'] = atla_per_char['combined_dialog'].apply(lambda x: split_into_list(x))\n",
    "lok_per_char['combined_dialog']  = lok_per_char['combined_dialog'].apply(lambda x: split_into_list(x))\n",
    "\n",
    "#Rename column to Name\n",
    "df.rename(columns={'character_name': 'Name'},inplace=True)\n",
    "atla_per_char.rename(columns={'character_name': 'Name'},inplace=True)\n",
    "lok_per_char.rename(columns={'character_name': 'Name'},inplace=True)\n",
    "\n",
    "#Set Name column as the index\n",
    "df = df.set_index(\"Name\")\n",
    "atla_per_char = atla_per_char.set_index(\"Name\")\n",
    "lok_per_char = lok_per_char.set_index(\"Name\")"
   ]
  },
  {
   "cell_type": "code",
   "execution_count": 6,
   "id": "824ac613",
   "metadata": {},
   "outputs": [],
   "source": [
    "atla_per_char.to_json(\"Dialogs_atla.json\",orient='index')\n",
    "lok_per_char.to_json(\"Dialogs_lok.json\",orient='index')\n",
    "df.to_json(\"Dialogs_both.json\",orient='index')"
   ]
  },
  {
   "cell_type": "code",
   "execution_count": 7,
   "id": "ecbc6411",
   "metadata": {},
   "outputs": [
    {
     "name": "stdout",
     "output_type": "stream",
     "text": [
      "The number of common names between dialogs and graph data is :  252\n"
     ]
    }
   ],
   "source": [
    "#Check number of characters in the graph data that have dialogs\n",
    "\n",
    "data = pd.read_csv('avatar_data.csv',index_col=0)\n",
    "common_names = len(np.intersect1d(data.name, df.index))\n",
    "print(\"The number of common names between dialogs and graph data is : \",common_names)"
   ]
  },
  {
   "cell_type": "code",
   "execution_count": null,
   "id": "d5ca52c3",
   "metadata": {},
   "outputs": [],
   "source": []
  }
 ],
 "metadata": {
  "kernelspec": {
   "display_name": "Python 3 (ipykernel)",
   "language": "python",
   "name": "python3"
  },
  "language_info": {
   "codemirror_mode": {
    "name": "ipython",
    "version": 3
   },
   "file_extension": ".py",
   "mimetype": "text/x-python",
   "name": "python",
   "nbconvert_exporter": "python",
   "pygments_lexer": "ipython3",
   "version": "3.7.9"
  }
 },
 "nbformat": 4,
 "nbformat_minor": 5
}
